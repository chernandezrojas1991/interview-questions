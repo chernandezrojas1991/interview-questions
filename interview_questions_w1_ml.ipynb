{
  "nbformat": 4,
  "nbformat_minor": 0,
  "metadata": {
    "colab": {
      "provenance": []
    },
    "kernelspec": {
      "name": "python3",
      "display_name": "Python 3"
    },
    "language_info": {
      "name": "python"
    }
  },
  "cells": [
    {
      "cell_type": "markdown",
      "source": [
        "¿Cuál es la diferencia entre aprendizaje supervisado y no supervisado?"
      ],
      "metadata": {
        "id": "u9inifdyW7T8"
      }
    },
    {
      "cell_type": "markdown",
      "source": [
        "¿Cuál es la diferencia entre regresión y clasificación?"
      ],
      "metadata": {
        "id": "zBCVrTYZW-6A"
      }
    },
    {
      "cell_type": "markdown",
      "source": [
        "¿Qué es un objetivo en aprendizaje automático supervisado?"
      ],
      "metadata": {
        "id": "BzJg6j4bXHvq"
      }
    },
    {
      "cell_type": "markdown",
      "source": [
        "Explica el propósito de un train-test split."
      ],
      "metadata": {
        "id": "NeHf_tZ3XKZ7"
      }
    },
    {
      "cell_type": "markdown",
      "source": [
        "¿Qué es el aprendizaje automático?"
      ],
      "metadata": {
        "id": "nDhSlUqsXMH-"
      }
    },
    {
      "cell_type": "markdown",
      "source": [
        "¿Cuáles son algunas aplicaciones comunes del aprendizaje automático?"
      ],
      "metadata": {
        "id": "JyqabEpAXNur"
      }
    },
    {
      "cell_type": "markdown",
      "source": [
        "¿Cuáles son los beneficios de usar un pipeline?"
      ],
      "metadata": {
        "id": "7VX_tlM0XPLS"
      }
    },
    {
      "cell_type": "markdown",
      "source": [
        "¿Qué es la fuga de datos y por qué es un problema?"
      ],
      "metadata": {
        "id": "ANkS1OD2XQj1"
      }
    },
    {
      "cell_type": "markdown",
      "source": [
        "¿Qué se entiende por \"ajustar\" un modelo?"
      ],
      "metadata": {
        "id": "Adt0bl66XSOM"
      }
    },
    {
      "cell_type": "markdown",
      "source": [
        "Describe los pasos principales del preprocesamiento de datos para el aprendizaje automático."
      ],
      "metadata": {
        "id": "gIbA_VgaXT8C"
      }
    }
  ]
}