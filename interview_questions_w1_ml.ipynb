{
  "nbformat": 4,
  "nbformat_minor": 0,
  "metadata": {
    "colab": {
      "provenance": [],
      "authorship_tag": "ABX9TyO2OfyypX2bPMipSGDmUZb5",
      "include_colab_link": true
    },
    "kernelspec": {
      "name": "python3",
      "display_name": "Python 3"
    },
    "language_info": {
      "name": "python"
    }
  },
  "cells": [
    {
      "cell_type": "markdown",
      "metadata": {
        "id": "view-in-github",
        "colab_type": "text"
      },
      "source": [
        "<a href=\"https://colab.research.google.com/github/chernandezrojas1991/interview-questions/blob/main/interview_questions_w1_ml.ipynb\" target=\"_parent\"><img src=\"https://colab.research.google.com/assets/colab-badge.svg\" alt=\"Open In Colab\"/></a>"
      ]
    },
    {
      "cell_type": "markdown",
      "source": [
        "# ¿Cuál es la diferencia entre aprendizaje supervisado y no supervisado?"
      ],
      "metadata": {
        "id": "u9inifdyW7T8"
      }
    },
    {
      "cell_type": "markdown",
      "source": [
        "El aprendizaje supervisado utiliza conjuntos de datos etiquetados, vale decir, que incluye su variable objeto suponiendo que estamos trabajando con dataframes. El aprendizaje no supervisado no incluye la variable objetivo o también llamado, la respuesta correcta."
      ],
      "metadata": {
        "id": "RSh_26L7agvF"
      }
    },
    {
      "cell_type": "markdown",
      "source": [
        "# ¿Cuál es la diferencia entre regresión y clasificación?"
      ],
      "metadata": {
        "id": "zBCVrTYZW-6A"
      }
    },
    {
      "cell_type": "markdown",
      "source": [
        "Regresión es aquella que predice un valor continuo, un número. Mientras que la clasificación predice, valga la redundancia, una clase o variable categórica."
      ],
      "metadata": {
        "id": "QYP0GbzNbIBf"
      }
    },
    {
      "cell_type": "markdown",
      "source": [
        "# ¿Qué es un objetivo en aprendizaje automático supervisado?"
      ],
      "metadata": {
        "id": "BzJg6j4bXHvq"
      }
    },
    {
      "cell_type": "markdown",
      "source": [
        "Es la variable (o valor de la columna objetivo) que se busca predecir a partir del conjunto de datos."
      ],
      "metadata": {
        "id": "sH3zO_yzbeBX"
      }
    },
    {
      "cell_type": "markdown",
      "source": [
        "# Explica el propósito de un train-test split."
      ],
      "metadata": {
        "id": "NeHf_tZ3XKZ7"
      }
    },
    {
      "cell_type": "markdown",
      "source": [
        "El propósito de la función train-test split es separar en una proporción de 70%-30% el conjunto de datos, con tal de seleccionar el conjunto de datos que serán de entrenamiento y el conjunto de datos que será de test, respectivamente. Esta función retorna dos variables que corresponden a train-data y test-data."
      ],
      "metadata": {
        "id": "LqOqNUcZb_ov"
      }
    },
    {
      "cell_type": "markdown",
      "source": [
        "# ¿Qué es el aprendizaje automático?"
      ],
      "metadata": {
        "id": "nDhSlUqsXMH-"
      }
    },
    {
      "cell_type": "markdown",
      "source": [
        "Es la capacidad de un algoritmo o programa de aprender a predecir valores para la variable objetivo a partir de un conjunto de datos de entrenamiento. El programa aprende de los datos que tiene de entrenamiento, determina patrones en ellos que determinan la variable objetivo y así puede ser capaz de predecir valores objetivos."
      ],
      "metadata": {
        "id": "2bpnjJEgcmOX"
      }
    },
    {
      "cell_type": "markdown",
      "source": [
        "# ¿Cuáles son algunas aplicaciones comunes del aprendizaje automático?"
      ],
      "metadata": {
        "id": "JyqabEpAXNur"
      }
    },
    {
      "cell_type": "markdown",
      "source": [
        "Reconocimiento de imágenes, sistemas de recomendación, detección de fraudes (correo spam), procesamiento de lenguaje natural (chatbots), entre otros."
      ],
      "metadata": {
        "id": "cNdhMWXtdC9E"
      }
    },
    {
      "cell_type": "markdown",
      "source": [
        "# ¿Cuáles son los beneficios de usar un pipeline?"
      ],
      "metadata": {
        "id": "7VX_tlM0XPLS"
      }
    },
    {
      "cell_type": "markdown",
      "source": [
        "Permite almacenar transformadores de columna y escaladores con tal de llevar un orden de procesado de datos y ejecutarlos las veces que se estime necesario."
      ],
      "metadata": {
        "id": "lImSM3XIdZUA"
      }
    },
    {
      "cell_type": "markdown",
      "source": [
        "# ¿Qué es la fuga de datos y por qué es un problema?"
      ],
      "metadata": {
        "id": "ANkS1OD2XQj1"
      }
    },
    {
      "cell_type": "markdown",
      "source": [
        "Es cuando se utilizan datos que no están disponibles para ser procesados al momento de efectuar una predicción."
      ],
      "metadata": {
        "id": "-DSjI6aEdkIZ"
      }
    },
    {
      "cell_type": "markdown",
      "source": [
        "# ¿Qué se entiende por \"ajustar\" un modelo?"
      ],
      "metadata": {
        "id": "Adt0bl66XSOM"
      }
    },
    {
      "cell_type": "markdown",
      "source": [
        "Es una técnica para predecir valores de datos desconocidos mediante el uso de otros datos relacionados y conocidos."
      ],
      "metadata": {
        "id": "byYXPuT-dyH7"
      }
    },
    {
      "cell_type": "markdown",
      "source": [
        "# Describe los pasos principales del preprocesamiento de datos para el aprendizaje automático."
      ],
      "metadata": {
        "id": "gIbA_VgaXT8C"
      }
    },
    {
      "cell_type": "markdown",
      "source": [
        "\n",
        "1.   train-test split: determinar conjunto de datos de prueba y test.\n",
        "2.   selector de columnas: determinar el tipo de la columna a transformar\n",
        "3.   Scale y/o One-Hot Encoder: El primero es para escalar valores numéricos y el segundo para utilizar el algoritmo one-hot para transformar variables categóricas en columnas distintas cuyos valores posibles son 1 cuando cumple cierta categoría y 0 cuando no la cumple.\n",
        "4.   Make column transformer: Determinar las columnas a transformar\n",
        "5.   Ajuste: Ajustar columnas transformadas de acuerdo al conjunto de datos de entrenamiento.\n",
        "6.   Transformación: Transforma los datos de entrenamiento según los algoritmos que escogimos usar: Scale/One-Hot Encoder.\n",
        "7.   Mostrar transformaciones (Opcional): Convertir en dataframe el conjunto de datos transformado para mejorar legibilidad.\n",
        "\n"
      ],
      "metadata": {
        "id": "kJcJXZRieDsL"
      }
    }
  ]
}